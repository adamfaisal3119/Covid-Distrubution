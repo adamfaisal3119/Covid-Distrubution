{
 "cells": [
  {
   "cell_type": "code",
   "execution_count": 1,
   "id": "b0ba0263",
   "metadata": {},
   "outputs": [],
   "source": [
    "# import necessary libraries\n",
    "# from models import create_classes\n",
    "import os\n",
    "from sqlalchemy.orm import Session\n",
    "from sqlalchemy import create_engine, func, or_, inspect, text\n",
    "from sqlalchemy import Column, Integer, String, Float\n",
    "from sqlalchemy.ext.automap import automap_base\n",
    "from sqlalchemy.ext.declarative import declarative_base\n",
    "import pandas as pd\n",
    "\n",
    "import pickle\n",
    "\n",
    "from flask import (\n",
    "    Flask,\n",
    "    render_template,\n",
    "    jsonify,\n",
    "    request,\n",
    "    redirect)\n"
   ]
  },
  {
   "cell_type": "code",
   "execution_count": 2,
   "id": "bb5ef7dc",
   "metadata": {},
   "outputs": [],
   "source": [
    "engine = create_engine(\"sqlite:///covid.db\")\n"
   ]
  },
  {
   "cell_type": "code",
   "execution_count": 3,
   "id": "8b311a4f",
   "metadata": {},
   "outputs": [],
   "source": [
    "# reflect an existing database into a new model\n",
    "Base = automap_base()\n",
    "# reflect the tables\n",
    "Base.prepare(engine, reflect=True)"
   ]
  },
  {
   "cell_type": "code",
   "execution_count": 4,
   "id": "7e6d1bcd",
   "metadata": {},
   "outputs": [
    {
     "data": {
      "text/plain": [
       "['country']"
      ]
     },
     "execution_count": 4,
     "metadata": {},
     "output_type": "execute_result"
    }
   ],
   "source": [
    "# Save reference to the table\n",
    "Base.classes.keys()"
   ]
  },
  {
   "cell_type": "code",
   "execution_count": 5,
   "id": "8ac99935",
   "metadata": {},
   "outputs": [
    {
     "data": {
      "text/plain": [
       "['country', 'sqlite_sequence']"
      ]
     },
     "execution_count": 5,
     "metadata": {},
     "output_type": "execute_result"
    }
   ],
   "source": [
    "inspector = inspect(engine)\n",
    "inspector.get_table_names()"
   ]
  },
  {
   "cell_type": "code",
   "execution_count": 6,
   "id": "6c264c7e",
   "metadata": {},
   "outputs": [
    {
     "name": "stdout",
     "output_type": "stream",
     "text": [
      "RowID INTEGER\n",
      "Country TEXT\n",
      "State TEXT\n",
      "Lat REAL\n",
      "Long REAL\n",
      "Date TEXT\n",
      "Confirmed INTEGER\n",
      "Deaths INTEGER\n",
      "Recovered INTEGER\n",
      "Active INTEGER\n",
      "WHORegion TEXT\n"
     ]
    }
   ],
   "source": [
    "columns = inspector.get_columns('country')\n",
    "for column in columns:\n",
    "    print(column[\"name\"], column[\"type\"])"
   ]
  },
  {
   "cell_type": "code",
   "execution_count": 83,
   "id": "0411ceca",
   "metadata": {},
   "outputs": [],
   "source": [
    "#################################################\n",
    "# Flask Setup\n",
    "#################################################\n",
    "app = Flask(__name__)\n",
    "\n",
    "# Web site\n",
    "@app.route(\"/\")\n",
    "def data():\n",
    "\n",
    "    return render_template(\"index.html\")"
   ]
  },
  {
   "cell_type": "code",
   "execution_count": 84,
   "id": "4a493566",
   "metadata": {},
   "outputs": [],
   "source": [
    "#geomap that shows total cases worldwide\n",
    "@app.route(\"/api/geomap\")\n",
    "def for_map():\n",
    "\n",
    "    session = Session(engine)\n",
    "    \n",
    "    results = session.query(country.Country, country.State, country.Lat, country.Long, country.Date,\n",
    "                           country.Confirmed, country.Deaths, country.Recovered, country.Active).all()\n",
    "    \n",
    "    results = [list(r) for r in results]\n",
    "\n",
    "    map_results = {\n",
    "        \"cases\": results\n",
    "    }\n",
    "\n",
    "    session.close()\n",
    "\n",
    "    return jsonify(map_results)\n"
   ]
  },
  {
   "cell_type": "code",
   "execution_count": null,
   "id": "0a9ae7c5",
   "metadata": {},
   "outputs": [],
   "source": [
    "#bubble chart that shows cases within WHO Region\n",
    "\n",
    "@app.route(\"/api/bubble/<region>\")\n",
    "def for_linechart(region):\n",
    "\n",
    "    session = Session(engine)\n",
    "    \n",
    "    results = session.query(country.Country, country.State, country.Date,\n",
    "                           country.Confirmed, country.Deaths, country.Recovered, country.Active, country.WHORegion).filter(country.WHORegion==region).all()\n",
    "    \n",
    "    results = [list(r) for r in results]\n",
    "    \n",
    "    bubble_results = {\n",
    "        \"cases\": results\n",
    "    }\n",
    "\n",
    "    session.close()\n",
    "\n",
    "    return jsonify(bubble_results)"
   ]
  },
  {
   "cell_type": "code",
   "execution_count": null,
   "id": "9508969b",
   "metadata": {},
   "outputs": [],
   "source": [
    "#barchart that shows cases within 1 country ie Australia and cases within each state\n",
    "@app.route(\"/api/bar/<region>\")\n",
    "def countrys(region):\n",
    "    \n",
    "    session = Session(engine)\n",
    "    \n",
    "    results = session.query(country.Country, country.State, country.Date,\n",
    "                           country.Confirmed, country.Deaths, country.Recovered, country.Active).filter(country.Country==region).all()\n",
    "    \n",
    "    results = [list(r) for r in results]\n",
    "\n",
    "    country_results = {\n",
    "        \"table\": results\n",
    "    }\n",
    "\n",
    "    session.close()\n",
    "\n",
    "    return jsonify(country_results)"
   ]
  },
  {
   "cell_type": "code",
   "execution_count": null,
   "id": "1e0820f5",
   "metadata": {},
   "outputs": [],
   "source": [
    "if __name__ == \"__main__\":\n",
    "    app.run()"
   ]
  }
 ],
 "metadata": {
  "kernelspec": {
   "display_name": "Python 3 (ipykernel)",
   "language": "python",
   "name": "python3"
  },
  "language_info": {
   "codemirror_mode": {
    "name": "ipython",
    "version": 3
   },
   "file_extension": ".py",
   "mimetype": "text/x-python",
   "name": "python",
   "nbconvert_exporter": "python",
   "pygments_lexer": "ipython3",
   "version": "3.10.13"
  }
 },
 "nbformat": 4,
 "nbformat_minor": 5
}
