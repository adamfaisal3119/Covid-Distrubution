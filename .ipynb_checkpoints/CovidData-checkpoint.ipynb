{
 "cells": [
  {
   "cell_type": "code",
   "execution_count": 1,
   "id": "54ddfd70",
   "metadata": {},
   "outputs": [],
   "source": [
    "import pandas as pd\n",
    "import sqlite3\n",
    "import csv"
   ]
  },
  {
   "cell_type": "code",
   "execution_count": 2,
   "id": "473dcb01",
   "metadata": {},
   "outputs": [],
   "source": [
    "# Specify the path to your CSV file\n",
    "csv_file_path = 'covid_19_clean_complete.csv'\n",
    "\n",
    "# Open the CSV file\n",
    "with open(csv_file_path, 'r') as file:\n",
    "    # Create a CSV reader object\n",
    "    csv_reader = csv.reader(file)\n",
    "\n",
    "#     # Iterate over each row in the CSV file\n",
    "#     for row in csv_reader:\n",
    "#         # Each row is a list where each element corresponds to a column in the CSV\n",
    "#         print(row)"
   ]
  },
  {
   "cell_type": "code",
   "execution_count": 4,
   "id": "3b62026a",
   "metadata": {
    "scrolled": true
   },
   "outputs": [
    {
     "data": {
      "text/html": [
       "<div>\n",
       "<style scoped>\n",
       "    .dataframe tbody tr th:only-of-type {\n",
       "        vertical-align: middle;\n",
       "    }\n",
       "\n",
       "    .dataframe tbody tr th {\n",
       "        vertical-align: top;\n",
       "    }\n",
       "\n",
       "    .dataframe thead th {\n",
       "        text-align: right;\n",
       "    }\n",
       "</style>\n",
       "<table border=\"1\" class=\"dataframe\">\n",
       "  <thead>\n",
       "    <tr style=\"text-align: right;\">\n",
       "      <th></th>\n",
       "      <th>State</th>\n",
       "      <th>Country</th>\n",
       "      <th>Lat</th>\n",
       "      <th>Long</th>\n",
       "      <th>Date</th>\n",
       "      <th>Confirmed</th>\n",
       "      <th>Deaths</th>\n",
       "      <th>Recovered</th>\n",
       "      <th>Active</th>\n",
       "      <th>WHORegion</th>\n",
       "    </tr>\n",
       "  </thead>\n",
       "  <tbody>\n",
       "    <tr>\n",
       "      <th>49</th>\n",
       "      <td>Beijing</td>\n",
       "      <td>China</td>\n",
       "      <td>40.182400</td>\n",
       "      <td>116.414200</td>\n",
       "      <td>2020-01-22</td>\n",
       "      <td>14</td>\n",
       "      <td>0</td>\n",
       "      <td>0</td>\n",
       "      <td>14</td>\n",
       "      <td>Western Pacific</td>\n",
       "    </tr>\n",
       "    <tr>\n",
       "      <th>50</th>\n",
       "      <td>Chongqing</td>\n",
       "      <td>China</td>\n",
       "      <td>30.057200</td>\n",
       "      <td>107.874000</td>\n",
       "      <td>2020-01-22</td>\n",
       "      <td>6</td>\n",
       "      <td>0</td>\n",
       "      <td>0</td>\n",
       "      <td>6</td>\n",
       "      <td>Western Pacific</td>\n",
       "    </tr>\n",
       "    <tr>\n",
       "      <th>53</th>\n",
       "      <td>Guangdong</td>\n",
       "      <td>China</td>\n",
       "      <td>23.341700</td>\n",
       "      <td>113.424400</td>\n",
       "      <td>2020-01-22</td>\n",
       "      <td>26</td>\n",
       "      <td>0</td>\n",
       "      <td>0</td>\n",
       "      <td>26</td>\n",
       "      <td>Western Pacific</td>\n",
       "    </tr>\n",
       "    <tr>\n",
       "      <th>54</th>\n",
       "      <td>Guangxi</td>\n",
       "      <td>China</td>\n",
       "      <td>23.829800</td>\n",
       "      <td>108.788100</td>\n",
       "      <td>2020-01-22</td>\n",
       "      <td>2</td>\n",
       "      <td>0</td>\n",
       "      <td>0</td>\n",
       "      <td>2</td>\n",
       "      <td>Western Pacific</td>\n",
       "    </tr>\n",
       "    <tr>\n",
       "      <th>56</th>\n",
       "      <td>Hainan</td>\n",
       "      <td>China</td>\n",
       "      <td>19.195900</td>\n",
       "      <td>109.745300</td>\n",
       "      <td>2020-01-22</td>\n",
       "      <td>4</td>\n",
       "      <td>0</td>\n",
       "      <td>0</td>\n",
       "      <td>4</td>\n",
       "      <td>Western Pacific</td>\n",
       "    </tr>\n",
       "    <tr>\n",
       "      <th>...</th>\n",
       "      <td>...</td>\n",
       "      <td>...</td>\n",
       "      <td>...</td>\n",
       "      <td>...</td>\n",
       "      <td>...</td>\n",
       "      <td>...</td>\n",
       "      <td>...</td>\n",
       "      <td>...</td>\n",
       "      <td>...</td>\n",
       "      <td>...</td>\n",
       "    </tr>\n",
       "    <tr>\n",
       "      <th>49063</th>\n",
       "      <td>NaN</td>\n",
       "      <td>Sao Tome and Principe</td>\n",
       "      <td>0.186400</td>\n",
       "      <td>6.613100</td>\n",
       "      <td>2020-07-27</td>\n",
       "      <td>865</td>\n",
       "      <td>14</td>\n",
       "      <td>734</td>\n",
       "      <td>117</td>\n",
       "      <td>Africa</td>\n",
       "    </tr>\n",
       "    <tr>\n",
       "      <th>49064</th>\n",
       "      <td>NaN</td>\n",
       "      <td>Yemen</td>\n",
       "      <td>15.552727</td>\n",
       "      <td>48.516388</td>\n",
       "      <td>2020-07-27</td>\n",
       "      <td>1691</td>\n",
       "      <td>483</td>\n",
       "      <td>833</td>\n",
       "      <td>375</td>\n",
       "      <td>Eastern Mediterranean</td>\n",
       "    </tr>\n",
       "    <tr>\n",
       "      <th>49065</th>\n",
       "      <td>NaN</td>\n",
       "      <td>Comoros</td>\n",
       "      <td>-11.645500</td>\n",
       "      <td>43.333300</td>\n",
       "      <td>2020-07-27</td>\n",
       "      <td>354</td>\n",
       "      <td>7</td>\n",
       "      <td>328</td>\n",
       "      <td>19</td>\n",
       "      <td>Africa</td>\n",
       "    </tr>\n",
       "    <tr>\n",
       "      <th>49066</th>\n",
       "      <td>NaN</td>\n",
       "      <td>Tajikistan</td>\n",
       "      <td>38.861000</td>\n",
       "      <td>71.276100</td>\n",
       "      <td>2020-07-27</td>\n",
       "      <td>7235</td>\n",
       "      <td>60</td>\n",
       "      <td>6028</td>\n",
       "      <td>1147</td>\n",
       "      <td>Europe</td>\n",
       "    </tr>\n",
       "    <tr>\n",
       "      <th>49067</th>\n",
       "      <td>NaN</td>\n",
       "      <td>Lesotho</td>\n",
       "      <td>-29.610000</td>\n",
       "      <td>28.233600</td>\n",
       "      <td>2020-07-27</td>\n",
       "      <td>505</td>\n",
       "      <td>12</td>\n",
       "      <td>128</td>\n",
       "      <td>365</td>\n",
       "      <td>Africa</td>\n",
       "    </tr>\n",
       "  </tbody>\n",
       "</table>\n",
       "<p>37800 rows × 10 columns</p>\n",
       "</div>"
      ],
      "text/plain": [
       "           State                Country        Lat        Long        Date  \\\n",
       "49       Beijing                  China  40.182400  116.414200  2020-01-22   \n",
       "50     Chongqing                  China  30.057200  107.874000  2020-01-22   \n",
       "53     Guangdong                  China  23.341700  113.424400  2020-01-22   \n",
       "54       Guangxi                  China  23.829800  108.788100  2020-01-22   \n",
       "56        Hainan                  China  19.195900  109.745300  2020-01-22   \n",
       "...          ...                    ...        ...         ...         ...   \n",
       "49063        NaN  Sao Tome and Principe   0.186400    6.613100  2020-07-27   \n",
       "49064        NaN                  Yemen  15.552727   48.516388  2020-07-27   \n",
       "49065        NaN                Comoros -11.645500   43.333300  2020-07-27   \n",
       "49066        NaN             Tajikistan  38.861000   71.276100  2020-07-27   \n",
       "49067        NaN                Lesotho -29.610000   28.233600  2020-07-27   \n",
       "\n",
       "       Confirmed  Deaths  Recovered  Active              WHORegion  \n",
       "49            14       0          0      14        Western Pacific  \n",
       "50             6       0          0       6        Western Pacific  \n",
       "53            26       0          0      26        Western Pacific  \n",
       "54             2       0          0       2        Western Pacific  \n",
       "56             4       0          0       4        Western Pacific  \n",
       "...          ...     ...        ...     ...                    ...  \n",
       "49063        865      14        734     117                 Africa  \n",
       "49064       1691     483        833     375  Eastern Mediterranean  \n",
       "49065        354       7        328      19                 Africa  \n",
       "49066       7235      60       6028    1147                 Europe  \n",
       "49067        505      12        128     365                 Africa  \n",
       "\n",
       "[37800 rows x 10 columns]"
      ]
     },
     "execution_count": 4,
     "metadata": {},
     "output_type": "execute_result"
    }
   ],
   "source": [
    "# Load covid report data into a DataFrame\n",
    "df = pd.read_csv(\"covid_19_clean_complete.csv\")\n",
    "\n",
    "# Filter and clean the DataFrame\n",
    "df_transform = df[(df['Confirmed'] >1) &\n",
    "                 (df['Deaths'] >= 0)]\n",
    "        \n",
    "\n",
    "df_transform = df_transform.copy()\n",
    "df_transform.rename(columns={'Province/State': 'State', 'Country/Region': 'Country','WHO Region':'WHORegion'}, inplace=True)\n",
    "#df_transform = df.dropna()\n",
    "df_transform\n"
   ]
  },
  {
   "cell_type": "code",
   "execution_count": 5,
   "id": "b076fc0f",
   "metadata": {},
   "outputs": [],
   "source": [
    "#Create/connect to a SQLite database\n",
    "conn = sqlite3.connect('covid.db')\n",
    "cursor = conn.cursor()\n"
   ]
  },
  {
   "cell_type": "code",
   "execution_count": 6,
   "id": "f752e172",
   "metadata": {},
   "outputs": [
    {
     "data": {
      "text/plain": [
       "<sqlite3.Cursor at 0x2cf8bf0dcc0>"
      ]
     },
     "execution_count": 6,
     "metadata": {},
     "output_type": "execute_result"
    }
   ],
   "source": [
    "create_sql = '''\n",
    "    DROP TABLE IF EXISTS country \n",
    "'''\n",
    "cursor.execute(create_sql)"
   ]
  },
  {
   "cell_type": "code",
   "execution_count": 7,
   "id": "be3030d3",
   "metadata": {
    "scrolled": true
   },
   "outputs": [
    {
     "data": {
      "text/plain": [
       "<sqlite3.Cursor at 0x2cf8bf0dcc0>"
      ]
     },
     "execution_count": 7,
     "metadata": {},
     "output_type": "execute_result"
    }
   ],
   "source": [
    "create_sql = '''\n",
    "    CREATE TABLE IF NOT EXISTS country (\n",
    "        \"RowID\" INTEGER PRIMARY KEY AUTOINCREMENT,\n",
    "        \"Country\" TEXT,\n",
    "        \"State\" TEXT,\n",
    "        \"Lat\" REAL,\n",
    "        \"Long\" REAL,\n",
    "        \"Date\" TEXT,\n",
    "        \"Confirmed\" INTEGER, \n",
    "        \"Deaths\" INTEGER,\n",
    "        \"Recovered\" INTEGER,\n",
    "        \"Active\" INTEGER,\n",
    "        \"WHORegion\" TEXT\n",
    "      \n",
    "    )\n",
    "'''\n",
    "cursor.execute(create_sql)"
   ]
  },
  {
   "cell_type": "code",
   "execution_count": 8,
   "id": "db141d44",
   "metadata": {},
   "outputs": [],
   "source": [
    "# Insert data into the \"country\" table\n",
    "#df_transform[['Country','State', 'Lat', 'Long','Date', 'Confirmed', 'Deaths', 'Recovered', 'Active', 'WHO Region']].to_sql('country', conn, index=False, if_exists='replace')"
   ]
  },
  {
   "cell_type": "code",
   "execution_count": 9,
   "id": "bdc1a981",
   "metadata": {},
   "outputs": [
    {
     "data": {
      "text/plain": [
       "37800"
      ]
     },
     "execution_count": 9,
     "metadata": {},
     "output_type": "execute_result"
    }
   ],
   "source": [
    "# # Insert data into the \"country\" table\n",
    "df_transform[['Country','State','Lat', 'Long','Date', 'Confirmed', 'Deaths', 'Recovered', 'Active', 'WHORegion']].to_sql('country', conn, index=False,if_exists='append')"
   ]
  },
  {
   "cell_type": "code",
   "execution_count": 10,
   "id": "0355054b",
   "metadata": {},
   "outputs": [
    {
     "name": "stdout",
     "output_type": "stream",
     "text": [
      "       RowID                Country      State        Lat        Long  \\\n",
      "0          1                  China    Beijing  40.182400  116.414200   \n",
      "1          2                  China  Chongqing  30.057200  107.874000   \n",
      "2          3                  China  Guangdong  23.341700  113.424400   \n",
      "3          4                  China    Guangxi  23.829800  108.788100   \n",
      "4          5                  China     Hainan  19.195900  109.745300   \n",
      "...      ...                    ...        ...        ...         ...   \n",
      "37795  37796  Sao Tome and Principe       None   0.186400    6.613100   \n",
      "37796  37797                  Yemen       None  15.552727   48.516388   \n",
      "37797  37798                Comoros       None -11.645500   43.333300   \n",
      "37798  37799             Tajikistan       None  38.861000   71.276100   \n",
      "37799  37800                Lesotho       None -29.610000   28.233600   \n",
      "\n",
      "             Date  Confirmed  Deaths  Recovered  Active              WHORegion  \n",
      "0      2020-01-22         14       0          0      14        Western Pacific  \n",
      "1      2020-01-22          6       0          0       6        Western Pacific  \n",
      "2      2020-01-22         26       0          0      26        Western Pacific  \n",
      "3      2020-01-22          2       0          0       2        Western Pacific  \n",
      "4      2020-01-22          4       0          0       4        Western Pacific  \n",
      "...           ...        ...     ...        ...     ...                    ...  \n",
      "37795  2020-07-27        865      14        734     117                 Africa  \n",
      "37796  2020-07-27       1691     483        833     375  Eastern Mediterranean  \n",
      "37797  2020-07-27        354       7        328      19                 Africa  \n",
      "37798  2020-07-27       7235      60       6028    1147                 Europe  \n",
      "37799  2020-07-27        505      12        128     365                 Africa  \n",
      "\n",
      "[37800 rows x 11 columns]\n"
     ]
    }
   ],
   "source": [
    "# Replace 'your_table' with the actual name of the table you want to check\n",
    "table_name = 'country'\n",
    "\n",
    "# Fetch data from the table\n",
    "query = f\"SELECT * FROM {table_name}\"\n",
    "existing_data = pd.read_sql_query(query, conn)\n",
    "\n",
    "# Print or examine the existing data\n",
    "print(existing_data)"
   ]
  },
  {
   "cell_type": "code",
   "execution_count": 11,
   "id": "b2b0ab7d",
   "metadata": {},
   "outputs": [],
   "source": [
    "#close connection\n",
    "conn.commit()\n",
    "conn.close()"
   ]
  },
  {
   "cell_type": "code",
   "execution_count": null,
   "id": "a1d39457",
   "metadata": {},
   "outputs": [],
   "source": []
  }
 ],
 "metadata": {
  "kernelspec": {
   "display_name": "Python 3 (ipykernel)",
   "language": "python",
   "name": "python3"
  },
  "language_info": {
   "codemirror_mode": {
    "name": "ipython",
    "version": 3
   },
   "file_extension": ".py",
   "mimetype": "text/x-python",
   "name": "python",
   "nbconvert_exporter": "python",
   "pygments_lexer": "ipython3",
   "version": "3.10.13"
  }
 },
 "nbformat": 4,
 "nbformat_minor": 5
}
