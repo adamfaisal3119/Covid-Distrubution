{
 "cells": [
  {
   "cell_type": "code",
   "execution_count": null,
   "id": "026c3a9f",
   "metadata": {
    "scrolled": true
   },
   "outputs": [],
   "source": [
    "#Install opendatasets library\n",
    "#Python’s opendatasets library is used for downloading open datasets from platforms such as Kaggle.\n",
    "!pip install opendatasets"
   ]
  },
  {
   "cell_type": "code",
   "execution_count": null,
   "id": "9c677bec",
   "metadata": {},
   "outputs": [],
   "source": []
  },
  {
   "cell_type": "code",
   "execution_count": null,
   "id": "2dc87855",
   "metadata": {},
   "outputs": [],
   "source": [
    "# Import the opendatasets library\n",
    "import opendatasets as od"
   ]
  },
  {
   "cell_type": "code",
   "execution_count": null,
   "id": "aa522ca6",
   "metadata": {},
   "outputs": [],
   "source": [
    "#On executing the below line, it will prompt for Kaggle username. Kaggle username \n",
    "#can be fetched from the Account tab of the My Profile section\n",
    "#On entering the username, it will prompt for Kaggle Key. Again, go to the account tab of the My Profile section and click on Create New API Token.\n",
    "#This will download a kaggle.json file.\n",
    "od.download(\"https://www.kaggle.com/datasets/imdevskp/corona-virus-report\")"
   ]
  },
  {
   "cell_type": "code",
   "execution_count": null,
   "id": "54ddfd70",
   "metadata": {},
   "outputs": [],
   "source": [
    "import pandas as pd\n",
    "import sqlite3"
   ]
  },
  {
   "cell_type": "code",
   "execution_count": null,
   "id": "3b62026a",
   "metadata": {
    "scrolled": true
   },
   "outputs": [],
   "source": [
    "# Load covid report data into a DataFrame\n",
    "df = pd.read_csv(\"corona-virus-report/covid_19_clean_complete.csv\")\n",
    "\n",
    "# Filter and clean the DataFrame\n",
    "df_transform = df[(df['Confirmed'] >1) &\n",
    "                 (df['Deaths'] >= 0)]\n",
    "#df_transform = df.dropna()\n",
    "df_transform\n"
   ]
  },
  {
   "cell_type": "code",
   "execution_count": 7,
   "id": "b076fc0f",
   "metadata": {},
   "outputs": [],
   "source": [
    "#Create/connect to a SQLite database\n",
    "conn = sqlite3.connect('covid.db')"
   ]
  },
  {
   "cell_type": "code",
   "execution_count": 8,
   "id": "60e63aba",
   "metadata": {
    "scrolled": true
   },
   "outputs": [
    {
     "data": {
      "text/plain": [
       "<sqlite3.Cursor at 0x17767dd99c0>"
      ]
     },
     "execution_count": 8,
     "metadata": {},
     "output_type": "execute_result"
    }
   ],
   "source": [
    "create_sql = '''\n",
    "    CREATE TABLE IF NOT EXISTS longlat (\n",
    "        \"Province/State\" TEXT,\n",
    "        \"Country/Region\" TEXT,\n",
    "        Lat REAL,\n",
    "        Long REAL,\n",
    "        \"WHO Region\" TEXT\n",
    "    )\n",
    "'''\n",
    "cursor = conn.cursor()\n",
    "cursor.execute(create_sql)\n"
   ]
  },
  {
   "cell_type": "code",
   "execution_count": 10,
   "id": "be3030d3",
   "metadata": {
    "scrolled": true
   },
   "outputs": [
    {
     "data": {
      "text/plain": [
       "<sqlite3.Cursor at 0x17767dda2c0>"
      ]
     },
     "execution_count": 10,
     "metadata": {},
     "output_type": "execute_result"
    }
   ],
   "source": [
    "create_sql = '''\n",
    "    CREATE TABLE IF NOT EXISTS country (\n",
    "        \"Country/Region\" TEXT,\n",
    "        \"Date\" TEXT,\n",
    "        \"Confirmed\" INTEGER, \n",
    "        \"Deaths\" INTEGER,\n",
    "        \"Recovered\" INTEGER,\n",
    "        \"Active\" INTEGER,\n",
    "        \"WHO Region\" TEXT,\n",
    "         PRIMARY KEY (\"Country/Region\")\n",
    "    )\n",
    "'''\n",
    "cursor = conn.cursor()\n",
    "cursor.execute(create_sql)"
   ]
  },
  {
   "cell_type": "code",
   "execution_count": 11,
   "id": "db141d44",
   "metadata": {},
   "outputs": [
    {
     "data": {
      "text/plain": [
       "37800"
      ]
     },
     "execution_count": 11,
     "metadata": {},
     "output_type": "execute_result"
    }
   ],
   "source": [
    "# Insert data into the \"longlat\" table\n",
    "df_transform[['Province/State', 'Country/Region', 'Lat', 'Long', 'WHO Region']].to_sql('longlat', conn, index=False, if_exists='replace')\n",
    "\n",
    "# Insert data into the \"country\" table\n",
    "df_transform[['Province/State', 'Country/Region', 'Date', 'Confirmed', 'Deaths', 'Recovered', 'Active', 'WHO Region']].to_sql('country', conn, index=False, if_exists='replace')"
   ]
  },
  {
   "cell_type": "code",
   "execution_count": 12,
   "id": "ac35af10",
   "metadata": {},
   "outputs": [
    {
     "name": "stdout",
     "output_type": "stream",
     "text": [
      "      Province/State         Country/Region        Lat        Long  \\\n",
      "0            Beijing                  China  40.182400  116.414200   \n",
      "1          Chongqing                  China  30.057200  107.874000   \n",
      "2          Guangdong                  China  23.341700  113.424400   \n",
      "3            Guangxi                  China  23.829800  108.788100   \n",
      "4             Hainan                  China  19.195900  109.745300   \n",
      "...              ...                    ...        ...         ...   \n",
      "37795           None  Sao Tome and Principe   0.186400    6.613100   \n",
      "37796           None                  Yemen  15.552727   48.516388   \n",
      "37797           None                Comoros -11.645500   43.333300   \n",
      "37798           None             Tajikistan  38.861000   71.276100   \n",
      "37799           None                Lesotho -29.610000   28.233600   \n",
      "\n",
      "                  WHO Region  \n",
      "0            Western Pacific  \n",
      "1            Western Pacific  \n",
      "2            Western Pacific  \n",
      "3            Western Pacific  \n",
      "4            Western Pacific  \n",
      "...                      ...  \n",
      "37795                 Africa  \n",
      "37796  Eastern Mediterranean  \n",
      "37797                 Africa  \n",
      "37798                 Europe  \n",
      "37799                 Africa  \n",
      "\n",
      "[37800 rows x 5 columns]\n"
     ]
    }
   ],
   "source": [
    "# import sqlite3\n",
    "\n",
    "# # Replace 'your_database.db' with the actual name of your SQLite database file\n",
    "# conn = sqlite3.connect('your_database.db')\n",
    "# Replace 'your_table' with the actual name of the table you want to check\n",
    "table_name = 'longlat'\n",
    "\n",
    "# Fetch data from the table\n",
    "query = f\"SELECT * FROM {table_name}\"\n",
    "existing_data = pd.read_sql_query(query, conn)\n",
    "\n",
    "# Print or examine the existing data\n",
    "print(existing_data)"
   ]
  },
  {
   "cell_type": "code",
   "execution_count": 12,
   "id": "b2b0ab7d",
   "metadata": {},
   "outputs": [],
   "source": [
    "#close connection\n",
    "conn.commit()\n",
    "conn.close()"
   ]
  },
  {
   "cell_type": "code",
   "execution_count": null,
   "id": "a1d39457",
   "metadata": {},
   "outputs": [],
   "source": []
  }
 ],
 "metadata": {
  "kernelspec": {
   "display_name": "Python 3 (ipykernel)",
   "language": "python",
   "name": "python3"
  },
  "language_info": {
   "codemirror_mode": {
    "name": "ipython",
    "version": 3
   },
   "file_extension": ".py",
   "mimetype": "text/x-python",
   "name": "python",
   "nbconvert_exporter": "python",
   "pygments_lexer": "ipython3",
   "version": "3.10.13"
  }
 },
 "nbformat": 4,
 "nbformat_minor": 5
}
