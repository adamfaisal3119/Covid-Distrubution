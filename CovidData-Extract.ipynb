{
 "cells": [
  {
   "cell_type": "code",
   "execution_count": 17,
   "id": "026c3a9f",
   "metadata": {
    "scrolled": true
   },
   "outputs": [
    {
     "name": "stdout",
     "output_type": "stream",
     "text": [
      "Requirement already satisfied: opendatasets in d:\\paytonana\\lib\\site-packages (0.1.22)\n",
      "Requirement already satisfied: tqdm in d:\\paytonana\\lib\\site-packages (from opendatasets) (4.65.0)\n",
      "Requirement already satisfied: kaggle in d:\\paytonana\\lib\\site-packages (from opendatasets) (1.6.3)\n",
      "Requirement already satisfied: click in d:\\paytonana\\lib\\site-packages (from opendatasets) (8.0.4)\n",
      "Requirement already satisfied: colorama in d:\\paytonana\\lib\\site-packages (from click->opendatasets) (0.4.6)\n",
      "Requirement already satisfied: six>=1.10 in d:\\paytonana\\lib\\site-packages (from kaggle->opendatasets) (1.16.0)\n",
      "Requirement already satisfied: certifi in d:\\paytonana\\lib\\site-packages (from kaggle->opendatasets) (2023.11.17)\n",
      "Requirement already satisfied: python-dateutil in d:\\paytonana\\lib\\site-packages (from kaggle->opendatasets) (2.8.2)\n",
      "Requirement already satisfied: requests in d:\\paytonana\\lib\\site-packages (from kaggle->opendatasets) (2.31.0)\n",
      "Requirement already satisfied: python-slugify in d:\\paytonana\\lib\\site-packages (from kaggle->opendatasets) (5.0.2)\n",
      "Requirement already satisfied: urllib3 in d:\\paytonana\\lib\\site-packages (from kaggle->opendatasets) (1.26.16)\n",
      "Requirement already satisfied: bleach in d:\\paytonana\\lib\\site-packages (from kaggle->opendatasets) (4.1.0)\n",
      "Requirement already satisfied: packaging in d:\\paytonana\\lib\\site-packages (from bleach->kaggle->opendatasets) (23.1)\n",
      "Requirement already satisfied: webencodings in d:\\paytonana\\lib\\site-packages (from bleach->kaggle->opendatasets) (0.5.1)\n",
      "Requirement already satisfied: text-unidecode>=1.3 in d:\\paytonana\\lib\\site-packages (from python-slugify->kaggle->opendatasets) (1.3)\n",
      "Requirement already satisfied: charset-normalizer<4,>=2 in d:\\paytonana\\lib\\site-packages (from requests->kaggle->opendatasets) (2.0.4)\n",
      "Requirement already satisfied: idna<4,>=2.5 in d:\\paytonana\\lib\\site-packages (from requests->kaggle->opendatasets) (3.4)\n"
     ]
    }
   ],
   "source": [
    "#Install opendatasets library\n",
    "#Python’s opendatasets library is used for downloading open datasets from platforms such as Kaggle.\n",
    "!pip install opendatasets"
   ]
  },
  {
   "cell_type": "code",
   "execution_count": null,
   "id": "9c677bec",
   "metadata": {},
   "outputs": [],
   "source": []
  },
  {
   "cell_type": "code",
   "execution_count": 3,
   "id": "2dc87855",
   "metadata": {},
   "outputs": [],
   "source": [
    "# Import the opendatasets library\n",
    "import opendatasets as od"
   ]
  },
  {
   "cell_type": "code",
   "execution_count": 4,
   "id": "aa522ca6",
   "metadata": {},
   "outputs": [
    {
     "name": "stdout",
     "output_type": "stream",
     "text": [
      "Skipping, found downloaded files in \".\\corona-virus-report\" (use force=True to force download)\n"
     ]
    }
   ],
   "source": [
    "#On executing the below line, it will prompt for Kaggle username. Kaggle username \n",
    "#can be fetched from the Account tab of the My Profile section\n",
    "#On entering the username, it will prompt for Kaggle Key. Again, go to the account tab of the My Profile section and click on Create New API Token.\n",
    "#This will download a kaggle.json file.\n",
    "od.download(\"https://www.kaggle.com/datasets/imdevskp/corona-virus-report\")"
   ]
  },
  {
   "cell_type": "code",
   "execution_count": 5,
   "id": "54ddfd70",
   "metadata": {},
   "outputs": [],
   "source": [
    "import pandas as pd\n",
    "import sqlite3"
   ]
  },
  {
   "cell_type": "code",
   "execution_count": 6,
   "id": "3b62026a",
   "metadata": {
    "scrolled": true
   },
   "outputs": [
    {
     "data": {
      "text/html": [
       "<div>\n",
       "<style scoped>\n",
       "    .dataframe tbody tr th:only-of-type {\n",
       "        vertical-align: middle;\n",
       "    }\n",
       "\n",
       "    .dataframe tbody tr th {\n",
       "        vertical-align: top;\n",
       "    }\n",
       "\n",
       "    .dataframe thead th {\n",
       "        text-align: right;\n",
       "    }\n",
       "</style>\n",
       "<table border=\"1\" class=\"dataframe\">\n",
       "  <thead>\n",
       "    <tr style=\"text-align: right;\">\n",
       "      <th></th>\n",
       "      <th>Province/State</th>\n",
       "      <th>Country/Region</th>\n",
       "      <th>Lat</th>\n",
       "      <th>Long</th>\n",
       "      <th>Date</th>\n",
       "      <th>Confirmed</th>\n",
       "      <th>Deaths</th>\n",
       "      <th>Recovered</th>\n",
       "      <th>Active</th>\n",
       "      <th>WHO Region</th>\n",
       "    </tr>\n",
       "  </thead>\n",
       "  <tbody>\n",
       "    <tr>\n",
       "      <th>49</th>\n",
       "      <td>Beijing</td>\n",
       "      <td>China</td>\n",
       "      <td>40.182400</td>\n",
       "      <td>116.414200</td>\n",
       "      <td>2020-01-22</td>\n",
       "      <td>14</td>\n",
       "      <td>0</td>\n",
       "      <td>0</td>\n",
       "      <td>14</td>\n",
       "      <td>Western Pacific</td>\n",
       "    </tr>\n",
       "    <tr>\n",
       "      <th>50</th>\n",
       "      <td>Chongqing</td>\n",
       "      <td>China</td>\n",
       "      <td>30.057200</td>\n",
       "      <td>107.874000</td>\n",
       "      <td>2020-01-22</td>\n",
       "      <td>6</td>\n",
       "      <td>0</td>\n",
       "      <td>0</td>\n",
       "      <td>6</td>\n",
       "      <td>Western Pacific</td>\n",
       "    </tr>\n",
       "    <tr>\n",
       "      <th>53</th>\n",
       "      <td>Guangdong</td>\n",
       "      <td>China</td>\n",
       "      <td>23.341700</td>\n",
       "      <td>113.424400</td>\n",
       "      <td>2020-01-22</td>\n",
       "      <td>26</td>\n",
       "      <td>0</td>\n",
       "      <td>0</td>\n",
       "      <td>26</td>\n",
       "      <td>Western Pacific</td>\n",
       "    </tr>\n",
       "    <tr>\n",
       "      <th>54</th>\n",
       "      <td>Guangxi</td>\n",
       "      <td>China</td>\n",
       "      <td>23.829800</td>\n",
       "      <td>108.788100</td>\n",
       "      <td>2020-01-22</td>\n",
       "      <td>2</td>\n",
       "      <td>0</td>\n",
       "      <td>0</td>\n",
       "      <td>2</td>\n",
       "      <td>Western Pacific</td>\n",
       "    </tr>\n",
       "    <tr>\n",
       "      <th>56</th>\n",
       "      <td>Hainan</td>\n",
       "      <td>China</td>\n",
       "      <td>19.195900</td>\n",
       "      <td>109.745300</td>\n",
       "      <td>2020-01-22</td>\n",
       "      <td>4</td>\n",
       "      <td>0</td>\n",
       "      <td>0</td>\n",
       "      <td>4</td>\n",
       "      <td>Western Pacific</td>\n",
       "    </tr>\n",
       "    <tr>\n",
       "      <th>...</th>\n",
       "      <td>...</td>\n",
       "      <td>...</td>\n",
       "      <td>...</td>\n",
       "      <td>...</td>\n",
       "      <td>...</td>\n",
       "      <td>...</td>\n",
       "      <td>...</td>\n",
       "      <td>...</td>\n",
       "      <td>...</td>\n",
       "      <td>...</td>\n",
       "    </tr>\n",
       "    <tr>\n",
       "      <th>49063</th>\n",
       "      <td>NaN</td>\n",
       "      <td>Sao Tome and Principe</td>\n",
       "      <td>0.186400</td>\n",
       "      <td>6.613100</td>\n",
       "      <td>2020-07-27</td>\n",
       "      <td>865</td>\n",
       "      <td>14</td>\n",
       "      <td>734</td>\n",
       "      <td>117</td>\n",
       "      <td>Africa</td>\n",
       "    </tr>\n",
       "    <tr>\n",
       "      <th>49064</th>\n",
       "      <td>NaN</td>\n",
       "      <td>Yemen</td>\n",
       "      <td>15.552727</td>\n",
       "      <td>48.516388</td>\n",
       "      <td>2020-07-27</td>\n",
       "      <td>1691</td>\n",
       "      <td>483</td>\n",
       "      <td>833</td>\n",
       "      <td>375</td>\n",
       "      <td>Eastern Mediterranean</td>\n",
       "    </tr>\n",
       "    <tr>\n",
       "      <th>49065</th>\n",
       "      <td>NaN</td>\n",
       "      <td>Comoros</td>\n",
       "      <td>-11.645500</td>\n",
       "      <td>43.333300</td>\n",
       "      <td>2020-07-27</td>\n",
       "      <td>354</td>\n",
       "      <td>7</td>\n",
       "      <td>328</td>\n",
       "      <td>19</td>\n",
       "      <td>Africa</td>\n",
       "    </tr>\n",
       "    <tr>\n",
       "      <th>49066</th>\n",
       "      <td>NaN</td>\n",
       "      <td>Tajikistan</td>\n",
       "      <td>38.861000</td>\n",
       "      <td>71.276100</td>\n",
       "      <td>2020-07-27</td>\n",
       "      <td>7235</td>\n",
       "      <td>60</td>\n",
       "      <td>6028</td>\n",
       "      <td>1147</td>\n",
       "      <td>Europe</td>\n",
       "    </tr>\n",
       "    <tr>\n",
       "      <th>49067</th>\n",
       "      <td>NaN</td>\n",
       "      <td>Lesotho</td>\n",
       "      <td>-29.610000</td>\n",
       "      <td>28.233600</td>\n",
       "      <td>2020-07-27</td>\n",
       "      <td>505</td>\n",
       "      <td>12</td>\n",
       "      <td>128</td>\n",
       "      <td>365</td>\n",
       "      <td>Africa</td>\n",
       "    </tr>\n",
       "  </tbody>\n",
       "</table>\n",
       "<p>37800 rows × 10 columns</p>\n",
       "</div>"
      ],
      "text/plain": [
       "      Province/State         Country/Region        Lat        Long  \\\n",
       "49           Beijing                  China  40.182400  116.414200   \n",
       "50         Chongqing                  China  30.057200  107.874000   \n",
       "53         Guangdong                  China  23.341700  113.424400   \n",
       "54           Guangxi                  China  23.829800  108.788100   \n",
       "56            Hainan                  China  19.195900  109.745300   \n",
       "...              ...                    ...        ...         ...   \n",
       "49063            NaN  Sao Tome and Principe   0.186400    6.613100   \n",
       "49064            NaN                  Yemen  15.552727   48.516388   \n",
       "49065            NaN                Comoros -11.645500   43.333300   \n",
       "49066            NaN             Tajikistan  38.861000   71.276100   \n",
       "49067            NaN                Lesotho -29.610000   28.233600   \n",
       "\n",
       "             Date  Confirmed  Deaths  Recovered  Active             WHO Region  \n",
       "49     2020-01-22         14       0          0      14        Western Pacific  \n",
       "50     2020-01-22          6       0          0       6        Western Pacific  \n",
       "53     2020-01-22         26       0          0      26        Western Pacific  \n",
       "54     2020-01-22          2       0          0       2        Western Pacific  \n",
       "56     2020-01-22          4       0          0       4        Western Pacific  \n",
       "...           ...        ...     ...        ...     ...                    ...  \n",
       "49063  2020-07-27        865      14        734     117                 Africa  \n",
       "49064  2020-07-27       1691     483        833     375  Eastern Mediterranean  \n",
       "49065  2020-07-27        354       7        328      19                 Africa  \n",
       "49066  2020-07-27       7235      60       6028    1147                 Europe  \n",
       "49067  2020-07-27        505      12        128     365                 Africa  \n",
       "\n",
       "[37800 rows x 10 columns]"
      ]
     },
     "execution_count": 6,
     "metadata": {},
     "output_type": "execute_result"
    }
   ],
   "source": [
    "# Load covid report data into a DataFrame\n",
    "df = pd.read_csv(\"corona-virus-report/covid_19_clean_complete.csv\")\n",
    "\n",
    "# Filter and clean the DataFrame\n",
    "df_transform = df[(df['Confirmed'] >1) &\n",
    "                 (df['Deaths'] >= 0)]\n",
    "#df_transform = df.dropna()\n",
    "df_transform\n"
   ]
  },
  {
   "cell_type": "code",
   "execution_count": 7,
   "id": "b076fc0f",
   "metadata": {},
   "outputs": [],
   "source": [
    "#Create/connect to a SQLite database\n",
    "conn = sqlite3.connect('covid.db')"
   ]
  },
  {
   "cell_type": "code",
   "execution_count": 8,
   "id": "60e63aba",
   "metadata": {
    "scrolled": true
   },
   "outputs": [
    {
     "data": {
      "text/plain": [
       "<sqlite3.Cursor at 0x17767dd99c0>"
      ]
     },
     "execution_count": 8,
     "metadata": {},
     "output_type": "execute_result"
    }
   ],
   "source": [
    "create_sql = '''\n",
    "    CREATE TABLE IF NOT EXISTS longlat (\n",
    "        \"Province/State\" TEXT,\n",
    "        \"Country/Region\" TEXT,\n",
    "        Lat REAL,\n",
    "        Long REAL,\n",
    "        \"WHO Region\" TEXT\n",
    "    )\n",
    "'''\n",
    "cursor = conn.cursor()\n",
    "cursor.execute(create_sql)\n"
   ]
  },
  {
   "cell_type": "code",
   "execution_count": 10,
   "id": "be3030d3",
   "metadata": {
    "scrolled": true
   },
   "outputs": [
    {
     "data": {
      "text/plain": [
       "<sqlite3.Cursor at 0x17767dda2c0>"
      ]
     },
     "execution_count": 10,
     "metadata": {},
     "output_type": "execute_result"
    }
   ],
   "source": [
    "create_sql = '''\n",
    "    CREATE TABLE IF NOT EXISTS country (\n",
    "        \"Country/Region\" TEXT,\n",
    "        \"Date\" TEXT,\n",
    "        \"Confirmed\" INTEGER, \n",
    "        \"Deaths\" INTEGER,\n",
    "        \"Recovered\" INTEGER,\n",
    "        \"Active\" INTEGER,\n",
    "        \"WHO Region\" TEXT,\n",
    "         PRIMARY KEY (\"Country/Region\")\n",
    "    )\n",
    "'''\n",
    "cursor = conn.cursor()\n",
    "cursor.execute(create_sql)"
   ]
  },
  {
   "cell_type": "code",
   "execution_count": 11,
   "id": "db141d44",
   "metadata": {},
   "outputs": [
    {
     "data": {
      "text/plain": [
       "37800"
      ]
     },
     "execution_count": 11,
     "metadata": {},
     "output_type": "execute_result"
    }
   ],
   "source": [
    "# Insert data into the \"longlat\" table\n",
    "df_transform[['Province/State', 'Country/Region', 'Lat', 'Long', 'WHO Region']].to_sql('longlat', conn, index=False, if_exists='replace')\n",
    "\n",
    "# Insert data into the \"country\" table\n",
    "df_transform[['Province/State', 'Country/Region', 'Date', 'Confirmed', 'Deaths', 'Recovered', 'Active', 'WHO Region']].to_sql('country', conn, index=False, if_exists='replace')"
   ]
  },
  {
   "cell_type": "code",
   "execution_count": 12,
   "id": "ac35af10",
   "metadata": {},
   "outputs": [
    {
     "name": "stdout",
     "output_type": "stream",
     "text": [
      "      Province/State         Country/Region        Lat        Long  \\\n",
      "0            Beijing                  China  40.182400  116.414200   \n",
      "1          Chongqing                  China  30.057200  107.874000   \n",
      "2          Guangdong                  China  23.341700  113.424400   \n",
      "3            Guangxi                  China  23.829800  108.788100   \n",
      "4             Hainan                  China  19.195900  109.745300   \n",
      "...              ...                    ...        ...         ...   \n",
      "37795           None  Sao Tome and Principe   0.186400    6.613100   \n",
      "37796           None                  Yemen  15.552727   48.516388   \n",
      "37797           None                Comoros -11.645500   43.333300   \n",
      "37798           None             Tajikistan  38.861000   71.276100   \n",
      "37799           None                Lesotho -29.610000   28.233600   \n",
      "\n",
      "                  WHO Region  \n",
      "0            Western Pacific  \n",
      "1            Western Pacific  \n",
      "2            Western Pacific  \n",
      "3            Western Pacific  \n",
      "4            Western Pacific  \n",
      "...                      ...  \n",
      "37795                 Africa  \n",
      "37796  Eastern Mediterranean  \n",
      "37797                 Africa  \n",
      "37798                 Europe  \n",
      "37799                 Africa  \n",
      "\n",
      "[37800 rows x 5 columns]\n"
     ]
    }
   ],
   "source": [
    "# import sqlite3\n",
    "\n",
    "# # Replace 'your_database.db' with the actual name of your SQLite database file\n",
    "# conn = sqlite3.connect('your_database.db')\n",
    "# Replace 'your_table' with the actual name of the table you want to check\n",
    "table_name = 'longlat'\n",
    "\n",
    "# Fetch data from the table\n",
    "query = f\"SELECT * FROM {table_name}\"\n",
    "existing_data = pd.read_sql_query(query, conn)\n",
    "\n",
    "# Print or examine the existing data\n",
    "print(existing_data)"
   ]
  },
  {
   "cell_type": "code",
   "execution_count": 12,
   "id": "b2b0ab7d",
   "metadata": {},
   "outputs": [],
   "source": [
    "#close connection\n",
    "conn.commit()\n",
    "conn.close()"
   ]
  },
  {
   "cell_type": "code",
   "execution_count": null,
   "id": "a1d39457",
   "metadata": {},
   "outputs": [],
   "source": []
  }
 ],
 "metadata": {
  "kernelspec": {
   "display_name": "Python 3 (ipykernel)",
   "language": "python",
   "name": "python3"
  },
  "language_info": {
   "codemirror_mode": {
    "name": "ipython",
    "version": 3
   },
   "file_extension": ".py",
   "mimetype": "text/x-python",
   "name": "python",
   "nbconvert_exporter": "python",
   "pygments_lexer": "ipython3",
   "version": "3.11.5"
  }
 },
 "nbformat": 4,
 "nbformat_minor": 5
}
